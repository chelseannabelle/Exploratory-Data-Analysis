{
  "nbformat": 4,
  "nbformat_minor": 0,
  "metadata": {
    "colab": {
      "provenance": [],
      "authorship_tag": "ABX9TyMcblF1ePl6Wjt7AB2MXPKd",
      "include_colab_link": true
    },
    "kernelspec": {
      "name": "python3",
      "display_name": "Python 3"
    },
    "language_info": {
      "name": "python"
    }
  },
  "cells": [
    {
      "cell_type": "markdown",
      "metadata": {
        "id": "view-in-github",
        "colab_type": "text"
      },
      "source": [
        "<a href=\"https://colab.research.google.com/github/chelseannabelle/Exploratory-Data-Analysis-Titanic-Dataset/blob/main/Titanic_Dataset.ipynb\" target=\"_parent\"><img src=\"https://colab.research.google.com/assets/colab-badge.svg\" alt=\"Open In Colab\"/></a>"
      ]
    },
    {
      "cell_type": "code",
      "execution_count": null,
      "metadata": {
        "id": "z9r7aZFmG1cq"
      },
      "outputs": [],
      "source": [
        "# Titanic EDA - Colab Version\n",
        "import pandas as pd\n",
        "import numpy as np\n",
        "import matplotlib.pyplot as plt\n",
        "import seaborn as sns\n",
        "\n",
        "# 1. Load dataset Titanic dari Seaborn\n",
        "titanic = sns.load_dataset('titanic')\n",
        "\n",
        "# 2. Info dasar dataset\n",
        "print(\"Info dataset:\")\n",
        "print(titanic.info())\n",
        "print(\"\\nStatistik deskriptif:\")\n",
        "print(titanic.describe())\n",
        "\n",
        "# 3. Missing values\n",
        "print(\"\\nMissing values:\")\n",
        "print(titanic.isnull().sum())\n",
        "plt.figure(figsize=(10,6))\n",
        "sns.heatmap(titanic.isnull(), cbar=False, cmap=\"viridis\")\n",
        "plt.title(\"Missing Values Heatmap\")\n",
        "plt.show()\n",
        "\n",
        "# 4. Variabel kategorik\n",
        "plt.figure(figsize=(6,4))\n",
        "sns.countplot(x=\"sex\", data=titanic, palette=\"pastel\")\n",
        "plt.title(\"Distribusi Jenis Kelamin\")\n",
        "plt.show()\n",
        "\n",
        "plt.figure(figsize=(6,4))\n",
        "sns.countplot(x=\"survived\", data=titanic, palette=\"Set2\")\n",
        "plt.title(\"Distribusi Survival\")\n",
        "plt.show()\n",
        "\n",
        "plt.figure(figsize=(6,4))\n",
        "sns.countplot(x=\"class\", data=titanic, palette=\"Set3\")\n",
        "plt.title(\"Distribusi Kelas Penumpang\")\n",
        "plt.show()\n",
        "\n",
        "# 5. Variabel numerik\n",
        "plt.figure(figsize=(6,4))\n",
        "sns.histplot(titanic[\"age\"].dropna(), bins=30, kde=True, color=\"skyblue\")\n",
        "plt.title(\"Distribusi Umur Penumpang\")\n",
        "plt.show()\n",
        "\n",
        "plt.figure(figsize=(6,4))\n",
        "sns.boxplot(x=\"pclass\", y=\"age\", data=titanic, palette=\"Set2\")\n",
        "plt.title(\"Distribusi Umur per Kelas\")\n",
        "plt.show()\n",
        "\n",
        "# 6. Korelasi numerik\n",
        "numeric_data = titanic.select_dtypes(include=[np.number])\n",
        "corr = numeric_data.corr()\n",
        "plt.figure(figsize=(8,6))\n",
        "sns.heatmap(corr, annot=True, cmap=\"coolwarm\", fmt=\".2f\")\n",
        "plt.title(\"Heatmap Korelasi Numerik\")\n",
        "plt.show()\n",
        "\n",
        "# 7. Visualisasi hubungan antar variabel\n",
        "plt.figure(figsize=(6,4))\n",
        "sns.scatterplot(x=\"age\", y=\"fare\", data=titanic, hue=\"survived\", alpha=0.7)\n",
        "plt.title(\"Umur vs Fare dengan Status Survival\")\n",
        "plt.show()\n",
        "\n",
        "sns.pairplot(titanic, vars=[\"age\", \"fare\", \"pclass\"], hue=\"survived\", palette=\"Set2\")\n",
        "plt.suptitle(\"Pairplot Titanic\", y=1.02)\n",
        "plt.show()\n",
        "\n",
        "# 8. Analisis tambahan\n",
        "titanic[\"sex_numeric\"] = titanic[\"sex\"].map({\"male\": 1, \"female\": 0})\n",
        "plt.figure(figsize=(6,4))\n",
        "sns.barplot(x=\"sex_numeric\", y=\"survived\", data=titanic, palette=\"viridis\")\n",
        "plt.title(\"Survival Berdasarkan Jenis Kelamin (Numeric)\")\n",
        "plt.xticks([0,1], [\"Perempuan\", \"Laki-laki\"])\n",
        "plt.show()"
      ]
    }
  ]
}